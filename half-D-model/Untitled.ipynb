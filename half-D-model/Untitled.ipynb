{
 "cells": [
  {
   "cell_type": "code",
   "execution_count": 15,
   "id": "82be4d14-1ae3-4937-b043-d881bf3da6c3",
   "metadata": {},
   "outputs": [],
   "source": [
    "from flow.time_study import *\n",
    "import matplotlib.pyplot as plt\n",
    "import pandas as pd\n",
    "fisxs, absxs, flux = np.array(pd.read_csv('mgxs/output.txt'))[0]\n",
    "import openmc.data as data"
   ]
  },
  {
   "cell_type": "code",
   "execution_count": 16,
   "id": "87f68f2d-c479-4bb2-b1ae-3aaf51bc1b19",
   "metadata": {},
   "outputs": [
    {
     "data": {
      "text/plain": [
       "<module 'openmc.data' from '/Users/nathanglaser/miniforge/lib/python3.10/site-packages/openmc/data/__init__.py'>"
      ]
     },
     "execution_count": 16,
     "metadata": {},
     "output_type": "execute_result"
    }
   ],
   "source": []
  },
  {
   "cell_type": "code",
   "execution_count": null,
   "id": "8b9d437b-5530-43cf-a3d0-acfcfb1ad05b",
   "metadata": {},
   "outputs": [],
   "source": []
  }
 ],
 "metadata": {
  "kernelspec": {
   "display_name": "Python 3 (ipykernel)",
   "language": "python",
   "name": "python3"
  },
  "language_info": {
   "codemirror_mode": {
    "name": "ipython",
    "version": 3
   },
   "file_extension": ".py",
   "mimetype": "text/x-python",
   "name": "python",
   "nbconvert_exporter": "python",
   "pygments_lexer": "ipython3",
   "version": "3.10.14"
  }
 },
 "nbformat": 4,
 "nbformat_minor": 5
}
