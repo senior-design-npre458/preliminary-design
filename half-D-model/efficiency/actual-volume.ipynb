{
 "cells": [
  {
   "cell_type": "code",
   "execution_count": 1,
   "id": "17303e39-1d1b-4087-82a5-b706f3f356fb",
   "metadata": {},
   "outputs": [],
   "source": [
    "import numpy as np \n",
    "import scipy as scp\n",
    "import scipy.optimize as opt\n",
    "import matplotlib.pyplot as plt\n",
    "import matplotlib as mpl\n",
    "\n",
    "params = {'image.aspect':'equal',\n",
    "          'savefig.dpi':600,\n",
    "          'axes.grid':True,\n",
    "          'axes.grid.which':\"both\",\n",
    "          'font.size':12,\n",
    "          'text.usetex':True,\n",
    "          'text.color':'black',\n",
    "          'image.cmap':'viridis'}\n",
    "\n",
    "mpl.rcParams.update(params)"
   ]
  },
  {
   "cell_type": "code",
   "execution_count": 2,
   "id": "a553a143-f73f-4ce8-b150-90c10c604e8f",
   "metadata": {},
   "outputs": [],
   "source": [
    "V_core = 30.4\n",
    "r_elec = .3175 * 1e-2\n",
    "h_elec = 182.88 * 1e-2\n",
    "time = 42.67708325\n",
    "S_elec, V_elec = r_elec * 2 * np.pi * h_elec, np.pi * r_elec**2 * h_elec\n",
    "S_per_h = S_elec / h_elec\n",
    "V_per_h = V_elec / h_elec\n",
    "num_per_m2 = 100*100"
   ]
  },
  {
   "cell_type": "code",
   "execution_count": 3,
   "id": "dd4a2cc4-5624-43f9-8f16-57da1ec94755",
   "metadata": {},
   "outputs": [
    {
     "data": {
      "text/plain": [
       "0.3166921744359361"
      ]
     },
     "execution_count": 3,
     "metadata": {},
     "output_type": "execute_result"
    }
   ],
   "source": [
    "V_per_h * num_per_m2"
   ]
  },
  {
   "cell_type": "code",
   "execution_count": 4,
   "id": "6b1f4e69-1849-4f1b-873f-6394927bf7c5",
   "metadata": {},
   "outputs": [],
   "source": [
    "D_pipe = 40.64e-2\n",
    "A_pipe = D_pipe **2 * np.pi / 4\n",
    "A_pipe_tot = A_pipe\n",
    "\n",
    "pump_cap = 1.01\n",
    "v_pipe = pump_cap / A_pipe"
   ]
  },
  {
   "cell_type": "code",
   "execution_count": 5,
   "id": "cd97ae8c-ebd3-40f4-ae5e-fcaedb0c9687",
   "metadata": {},
   "outputs": [],
   "source": [
    "Volume = v_pipe * A_pipe_tot * time\n",
    "A_td = Volume / 1.5"
   ]
  },
  {
   "cell_type": "code",
   "execution_count": 6,
   "id": "79251941-021a-4857-9ae7-529875bfde5f",
   "metadata": {},
   "outputs": [
    {
     "data": {
      "text/plain": [
       "2.032"
      ]
     },
     "execution_count": 6,
     "metadata": {},
     "output_type": "execute_result"
    }
   ],
   "source": [
    "w_channel = 40.64e-2\n",
    "num_channels = 5\n",
    "w = w_channel * num_channels\n",
    "l_channel = A_td / w\n",
    "w"
   ]
  },
  {
   "cell_type": "code",
   "execution_count": 7,
   "id": "73b6ee7e-086d-405a-84a9-0bc9b7910a20",
   "metadata": {},
   "outputs": [],
   "source": [
    "num_elec_w = int(w_channel*100)\n",
    "num_elec_channel = int(l_channel*100) *(2* num_elec_w -1 ) /2"
   ]
  },
  {
   "cell_type": "code",
   "execution_count": 8,
   "id": "ede2899b-894c-4f6d-9c2c-001d4a186b53",
   "metadata": {},
   "outputs": [
    {
     "data": {
      "text/plain": [
       "169793120.0"
      ]
     },
     "execution_count": 8,
     "metadata": {},
     "output_type": "execute_result"
    }
   ],
   "source": [
    "cost_elec = 152\n",
    "num_electrodes = 4* num_channels * num_elec_channel\n",
    "cost_elec * num_electrodes"
   ]
  },
  {
   "cell_type": "markdown",
   "id": "170cc74e-acf1-4aea-953a-6c5a4a48b38c",
   "metadata": {},
   "source": [
    "# Redo time\n",
    "ignore everything above, don't want to delete just in case"
   ]
  },
  {
   "cell_type": "code",
   "execution_count": 31,
   "id": "6cc8740a-d54a-4e3d-a13e-5a76e3030b6c",
   "metadata": {},
   "outputs": [],
   "source": [
    "num_elec_per_m = 12\n",
    "\n",
    "# area of inlet pipe and fixed channel depth\n",
    "\n",
    "inlet_pipe_area = D_pipe **2 / 4 * np.pi\n",
    "channel_depth = 1.5 # electrode height is 1.82 meters, want some extra height for channel blockage\n",
    "\n",
    "# finding the width of the channel, setting the flow area of each channel to be equal to the inlet pipe area\n",
    "MULTI = 7.5\n",
    "eff_width = lambda x: x - np.floor(x*num_elec_per_m)*r_elec*2  # x is the channel width, - chunk is the total width of electrodes impeding flow\n",
    "find_width = lambda x: MULTI*inlet_pipe_area - channel_depth * eff_width(x) # root find to find x lol\n",
    "channel_width = scp.optimize.root(find_width, [.4]).x[0] # find x\n",
    "eff_channel_width = eff_width(channel_width) #plug in x to get eff width\n",
    "eff_channel_area = eff_channel_width * channel_depth # should be inlet pipe diameter\n",
    "\n",
    "#finding the inlet velocity\n",
    "pump_capacity = 1.01 #m3/s\n",
    "inlet_pipe_vel = pump_capacity / inlet_pipe_area\n",
    "number_channels = 5\n",
    "# m3/s = m/s * m2 -> Q = vA. Yes i know this just goes to pump capacity\n",
    "channel_velocity = inlet_pipe_vel * inlet_pipe_area / (number_channels * eff_channel_area)\n",
    "time = 42.67708325\n",
    "channel_length = time * channel_velocity\n",
    "\n",
    "#num in width x num in length\n",
    "num_elec_per_channel = np.floor(channel_width * num_elec_per_m) * np.floor(channel_length * num_elec_per_m)\n",
    "\n",
    "#cost\n",
    "cost_elec = 152\n",
    "total_num_electrodes = num_elec_per_channel*number_channels\n",
    "total_elec_cost = cost_elec *  total_num_electrodes * 1e-6"
   ]
  },
  {
   "cell_type": "code",
   "execution_count": 32,
   "id": "ddbef3c0-3ea7-4e06-8a55-55059003949f",
   "metadata": {},
   "outputs": [
    {
     "data": {
      "text/plain": [
       "(np.float64(8.861098336771304),\n",
       " np.float64(3.496927866223985),\n",
       " np.float64(0.648585573244797),\n",
       " np.float64(4240.0))"
      ]
     },
     "execution_count": 32,
     "metadata": {},
     "output_type": "execute_result"
    }
   ],
   "source": [
    "channel_length, channel_width*number_channels, eff_channel_width, num_elec_per_channel*number_channels"
   ]
  },
  {
   "cell_type": "code",
   "execution_count": 33,
   "id": "3a9e6b9d-6c6f-47af-aefe-5e9597e1a3cb",
   "metadata": {},
   "outputs": [
    {
     "data": {
      "text/plain": [
       "np.float64(43.10385408250001)"
      ]
     },
     "execution_count": 33,
     "metadata": {},
     "output_type": "execute_result"
    }
   ],
   "source": [
    "channel_length * eff_channel_width * number_channels * channel_depth"
   ]
  },
  {
   "cell_type": "code",
   "execution_count": 34,
   "id": "6a227e89-dfe7-4fbf-bb54-e83372278e16",
   "metadata": {},
   "outputs": [
    {
     "data": {
      "text/plain": [
       "np.float64(46.47993254880987)"
      ]
     },
     "execution_count": 34,
     "metadata": {},
     "output_type": "execute_result"
    }
   ],
   "source": [
    "channel_length * channel_width * number_channels * channel_depth"
   ]
  },
  {
   "cell_type": "code",
   "execution_count": 35,
   "id": "b7d76e70-2390-4a92-9c51-e2e0f5ed70ee",
   "metadata": {},
   "outputs": [
    {
     "data": {
      "text/plain": [
       "np.float64(6.197324339841316)"
      ]
     },
     "execution_count": 35,
     "metadata": {},
     "output_type": "execute_result"
    }
   ],
   "source": [
    "channel_length * channel_width"
   ]
  },
  {
   "cell_type": "code",
   "execution_count": 36,
   "id": "f7f73cac-2be3-4e93-8213-a064e885d15f",
   "metadata": {},
   "outputs": [],
   "source": [
    "D = 1.28e-6*1e-4\n",
    "correlation_visc = lambda T: 1.16e-4 * np.exp(3755/T)\n",
    "rho = np.array([3283.9, 3330.4, 3376.9])[::-1]\n",
    "temps = np.array([978, 908, 839])[::-1]-273.15\n",
    "mu = np.array([correlation_visc(temp) for temp in temps])\n",
    "kinematic_visc = mu / rho"
   ]
  },
  {
   "cell_type": "code",
   "execution_count": 37,
   "id": "96a8b833-78c3-474f-aa33-2cf85ee02dce",
   "metadata": {},
   "outputs": [
    {
     "data": {
      "text/plain": [
       "np.float64(7182.834320170605)"
      ]
     },
     "execution_count": 37,
     "metadata": {},
     "output_type": "execute_result"
    }
   ],
   "source": [
    "hydraulic_diameter = 2 * eff_channel_area / (eff_channel_width  + channel_depth)\n",
    "rho[0] * channel_velocity * hydraulic_diameter / mu[0]"
   ]
  },
  {
   "cell_type": "code",
   "execution_count": 16,
   "id": "57a72cba-660f-436b-a336-2a78b11c83eb",
   "metadata": {},
   "outputs": [
    {
     "data": {
      "text/plain": [
       "0.3175"
      ]
     },
     "execution_count": 16,
     "metadata": {},
     "output_type": "execute_result"
    }
   ],
   "source": [
    "r_elec *1e2"
   ]
  },
  {
   "cell_type": "code",
   "execution_count": 17,
   "id": "cd3d83ca-06b1-445b-8499-915d32e7d182",
   "metadata": {},
   "outputs": [
    {
     "data": {
      "text/plain": [
       "332.2911876289239"
      ]
     },
     "execution_count": 17,
     "metadata": {},
     "output_type": "execute_result"
    }
   ],
   "source": [
    "time * inlet_pipe_vel"
   ]
  },
  {
   "cell_type": "code",
   "execution_count": 18,
   "id": "3caf90bd-f23c-45d4-8c8d-3728bd85eea2",
   "metadata": {},
   "outputs": [
    {
     "data": {
      "text/plain": [
       "array([204513.92846319, 100811.3077998 ,  56820.81986268])"
      ]
     },
     "execution_count": 18,
     "metadata": {},
     "output_type": "execute_result"
    }
   ],
   "source": [
    "kinematic_visc / D"
   ]
  },
  {
   "cell_type": "code",
   "execution_count": 29,
   "id": "eb77fdef-d7bb-44a3-b5f6-95703c9dd937",
   "metadata": {},
   "outputs": [
    {
     "data": {
      "text/plain": [
       "np.float64(11.580775911986104)"
      ]
     },
     "execution_count": 29,
     "metadata": {},
     "output_type": "execute_result"
    },
    {
     "data": {
      "image/png": "[encoded data removed]",
      "text/plain": [
       "<Figure size 640x480 with 1 Axes>"
      ]
     },
     "metadata": {},
     "output_type": "display_data"
    }
   ],
   "source": [
    "resistivity = 1.397\n",
    "voltage_drop = lambda r: resistivity * r / (np.pi * r**2)\n",
    "rs = np.linspace(0.01,1, 100)\n",
    "values = voltage_drop(rs)\n",
    "values /= values[0]\n",
    "plt.semilogx(rs*100, values)\n",
    "plt.ylabel('Relative Voltage')\n",
    "plt.xlabel('Radius from Electrode')\n",
    "plt.savefig('voltage.png',dpi=600)\n",
    "func = scp.interpolate.interp1d(values, rs)\n",
    "1 / (2 * (func(.25) + r_elec))"
   ]
  },
  {
   "cell_type": "code",
   "execution_count": 39,
   "id": "fdf239aa-c6b3-4a34-86b1-17ce5e1782fa",
   "metadata": {},
   "outputs": [
    {
     "data": {
      "text/plain": [
       "np.float64(1651.056)"
      ]
     },
     "execution_count": 39,
     "metadata": {},
     "output_type": "execute_result"
    }
   ],
   "source": [
    "current = 0.12\n",
    "voltage = 2.045 + 1.2\n",
    "power = current * voltage\n",
    "num_elec_per_channel*number_channels * power "
   ]
  },
  {
   "cell_type": "code",
   "execution_count": null,
   "id": "657b6d2f-0292-4e75-8658-4b10f5cb144e",
   "metadata": {},
   "outputs": [],
   "source": []
  }
 ],
 "metadata": {
  "kernelspec": {
   "display_name": "Python 3 (ipykernel)",
   "language": "python",
   "name": "python3"
  },
  "language_info": {
   "codemirror_mode": {
    "name": "ipython",
    "version": 3
   },
   "file_extension": ".py",
   "mimetype": "text/x-python",
   "name": "python",
   "nbconvert_exporter": "python",
   "pygments_lexer": "ipython3",
   "version": "3.10.14"
  }
 },
 "nbformat": 4,
 "nbformat_minor": 5
}
