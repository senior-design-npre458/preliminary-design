{
 "cells": [
  {
   "cell_type": "code",
   "execution_count": 75,
   "id": "17303e39-1d1b-4087-82a5-b706f3f356fb",
   "metadata": {},
   "outputs": [],
   "source": [
    "import numpy as np \n",
    "import scipy as scp\n",
    "import scipy.optimize as opt\n",
    "import matplotlib.pyplot as plt"
   ]
  },
  {
   "cell_type": "code",
   "execution_count": 2,
   "id": "a553a143-f73f-4ce8-b150-90c10c604e8f",
   "metadata": {},
   "outputs": [],
   "source": [
    "V_core = 30.4\n",
    "r_elec = .3175 * 1e-2\n",
    "h_elec = 182.88 * 1e-2\n",
    "time = 42.67708325\n",
    "S_elec, V_elec = r_elec * 2 * np.pi * h_elec, np.pi * r_elec**2 * h_elec\n",
    "S_per_h = S_elec / h_elec\n",
    "V_per_h = V_elec / h_elec\n",
    "num_per_m2 = 100*100"
   ]
  },
  {
   "cell_type": "code",
   "execution_count": 3,
   "id": "dd4a2cc4-5624-43f9-8f16-57da1ec94755",
   "metadata": {},
   "outputs": [
    {
     "data": {
      "text/plain": [
       "0.3166921744359361"
      ]
     },
     "execution_count": 3,
     "metadata": {},
     "output_type": "execute_result"
    }
   ],
   "source": [
    "V_per_h * num_per_m2"
   ]
  },
  {
   "cell_type": "code",
   "execution_count": 4,
   "id": "6b1f4e69-1849-4f1b-873f-6394927bf7c5",
   "metadata": {},
   "outputs": [],
   "source": [
    "D_pipe = 40.64e-2\n",
    "A_pipe = D_pipe **2 * np.pi / 4\n",
    "A_pipe_tot = A_pipe\n",
    "\n",
    "pump_cap = 1.01\n",
    "v_pipe = pump_cap / A_pipe"
   ]
  },
  {
   "cell_type": "code",
   "execution_count": 5,
   "id": "cd97ae8c-ebd3-40f4-ae5e-fcaedb0c9687",
   "metadata": {},
   "outputs": [],
   "source": [
    "Volume = v_pipe * A_pipe_tot * time\n",
    "A_td = Volume / 1.5"
   ]
  },
  {
   "cell_type": "code",
   "execution_count": 51,
   "id": "79251941-021a-4857-9ae7-529875bfde5f",
   "metadata": {},
   "outputs": [
    {
     "data": {
      "text/plain": [
       "2.032"
      ]
     },
     "execution_count": 51,
     "metadata": {},
     "output_type": "execute_result"
    }
   ],
   "source": [
    "w_channel = 40.64e-2\n",
    "num_channels = 5\n",
    "w = w_channel * num_channels\n",
    "l_channel = A_td / w\n",
    "w"
   ]
  },
  {
   "cell_type": "code",
   "execution_count": 7,
   "id": "73b6ee7e-086d-405a-84a9-0bc9b7910a20",
   "metadata": {},
   "outputs": [],
   "source": [
    "num_elec_w = int(w_channel*100)\n",
    "num_elec_channel = int(l_channel*100) *(2* num_elec_w -1 ) /2"
   ]
  },
  {
   "cell_type": "code",
   "execution_count": 8,
   "id": "ede2899b-894c-4f6d-9c2c-001d4a186b53",
   "metadata": {},
   "outputs": [
    {
     "data": {
      "text/plain": [
       "169793120.0"
      ]
     },
     "execution_count": 8,
     "metadata": {},
     "output_type": "execute_result"
    }
   ],
   "source": [
    "cost_elec = 152\n",
    "num_electrodes = 4* num_channels * num_elec_channel\n",
    "cost_elec * num_electrodes"
   ]
  },
  {
   "cell_type": "markdown",
   "id": "170cc74e-acf1-4aea-953a-6c5a4a48b38c",
   "metadata": {},
   "source": [
    "# Redo time\n",
    "ignore everything above, don't want to delete just in case"
   ]
  },
  {
   "cell_type": "code",
   "execution_count": 137,
   "id": "6cc8740a-d54a-4e3d-a13e-5a76e3030b6c",
   "metadata": {},
   "outputs": [
    {
     "data": {
      "text/plain": [
       "np.float64(118.66184)"
      ]
     },
     "execution_count": 137,
     "metadata": {},
     "output_type": "execute_result"
    }
   ],
   "source": [
    "# area of inlet pipe and fixed channel depth\n",
    "\n",
    "\n",
    "inlet_pipe_area = D_pipe **2 / 4 * np.pi\n",
    "channel_depth = 1.5 # electrode height is 1.82 meters, want some extra height for channel blockage\n",
    "\n",
    "# finding the width of the channel, setting the flow area of each channel to be equal to the inlet pipe area\n",
    "MULTI = 4\n",
    "eff_width = lambda x: x - np.floor(x*100)*r_elec*2  # x is the channel width, - chunk is the total width of electrodes impeding flow\n",
    "find_width = lambda x: MULTI*inlet_pipe_area - channel_depth * eff_width(x) # root find to find x lol\n",
    "channel_width = scp.optimize.root(find_width, [.4]).x[0] # find x\n",
    "eff_channel_width = eff_width(channel_width) #plug in x to get eff width\n",
    "eff_channel_area = eff_channel_width * channel_depth # should be inlet pipe diameter\n",
    "\n",
    "#finding the inlet velocity\n",
    "pump_capacity = 1.01 #m3/s\n",
    "inlet_pipe_vel = pump_capacity / inlet_pipe_area\n",
    "number_channels = 5\n",
    "# m3/s = m/s * m2 -> Q = vA. Yes i know this just goes to pump capacity\n",
    "channel_velocity = inlet_pipe_vel * inlet_pipe_area / (number_channels * eff_channel_area)\n",
    "time = 42.67708325\n",
    "channel_length = time * channel_velocity\n",
    "\n",
    "#num in width x num in length\n",
    "num_elec_per_channel = np.floor(channel_width * 100) * np.floor(channel_length * 100)\n",
    "\n",
    "#cost\n",
    "cost_elec = 152\n",
    "cost_elec *  num_elec_per_channel*number_channels * 1e-6"
   ]
  },
  {
   "cell_type": "code",
   "execution_count": 138,
   "id": "ddbef3c0-3ea7-4e06-8a55-55059003949f",
   "metadata": {},
   "outputs": [
    {
     "data": {
      "text/plain": [
       "(np.float64(16.614559381446195),\n",
       " np.float64(4.714061528652793),\n",
       " np.float64(780670.0))"
      ]
     },
     "execution_count": 138,
     "metadata": {},
     "output_type": "execute_result"
    }
   ],
   "source": [
    "channel_length, channel_width*number_channels, num_elec_per_channel*number_channels"
   ]
  },
  {
   "cell_type": "code",
   "execution_count": 139,
   "id": "3a9e6b9d-6c6f-47af-aefe-5e9597e1a3cb",
   "metadata": {},
   "outputs": [
    {
     "data": {
      "text/plain": [
       "np.float64(143.23537454170017)"
      ]
     },
     "execution_count": 139,
     "metadata": {},
     "output_type": "execute_result"
    }
   ],
   "source": [
    "channel_length * channel_width * number_channels * h_elec"
   ]
  },
  {
   "cell_type": "code",
   "execution_count": 140,
   "id": "6a227e89-dfe7-4fbf-bb54-e83372278e16",
   "metadata": {},
   "outputs": [
    {
     "data": {
      "text/plain": [
       "(np.float64(0.3893086901960713), 7.786173803921426)"
      ]
     },
     "execution_count": 140,
     "metadata": {},
     "output_type": "execute_result"
    }
   ],
   "source": [
    "channel_velocity, inlet_pipe_vel"
   ]
  },
  {
   "cell_type": "code",
   "execution_count": 141,
   "id": "b7d76e70-2390-4a92-9c51-e2e0f5ed70ee",
   "metadata": {},
   "outputs": [
    {
     "data": {
      "text/plain": [
       "np.float64(15.66441103911857)"
      ]
     },
     "execution_count": 141,
     "metadata": {},
     "output_type": "execute_result"
    }
   ],
   "source": [
    "channel_length * channel_width"
   ]
  },
  {
   "cell_type": "code",
   "execution_count": null,
   "id": "f7f73cac-2be3-4e93-8213-a064e885d15f",
   "metadata": {},
   "outputs": [],
   "source": []
  }
 ],
 "metadata": {
  "kernelspec": {
   "display_name": "Python 3 (ipykernel)",
   "language": "python",
   "name": "python3"
  },
  "language_info": {
   "codemirror_mode": {
    "name": "ipython",
    "version": 3
   },
   "file_extension": ".py",
   "mimetype": "text/x-python",
   "name": "python",
   "nbconvert_exporter": "python",
   "pygments_lexer": "ipython3",
   "version": "3.10.14"
  }
 },
 "nbformat": 4,
 "nbformat_minor": 5
}
